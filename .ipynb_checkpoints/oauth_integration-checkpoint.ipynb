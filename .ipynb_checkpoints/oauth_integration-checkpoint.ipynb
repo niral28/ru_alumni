{
 "cells": [
  {
   "cell_type": "code",
   "execution_count": 8,
   "metadata": {},
   "outputs": [],
   "source": [
    "from flask import Flask, redirect, url_for, session, request, jsonify\n",
    "from requests_oauthlib import OAuth2Session\n",
    "from requests_oauthlib.compliance_fixes import linkedin_compliance_fix\n",
    "import os \n",
    "\n",
    "#for SSL\n",
    "os.environ['OAUTHLIB_INSECURE_TRANSPORT'] = '1'\n"
   ]
  },
  {
   "cell_type": "code",
   "execution_count": null,
   "metadata": {},
   "outputs": [
    {
     "name": "stderr",
     "output_type": "stream",
     "text": [
      "127.0.0.1 - - [17/Jan/2018 19:04:39] \"GET / HTTP/1.1\" 302 -\n",
      "127.0.0.1 - - [17/Jan/2018 19:05:15] \"GET / HTTP/1.1\" 302 -\n"
     ]
    }
   ],
   "source": [
    "\n",
    "# EB looks for an 'application' callable by default.\n",
    "application = Flask(__name__)\n",
    "client_id = '78gbrnp4ovmhd3'\n",
    "client_secret = 'F8yif7Bjr86xKdAf'\n",
    " # OAuth endpoints given in the LinkedIn API documentation\n",
    "authorization_base_url = 'https://www.linkedin.com/uas/oauth2/authorization'\n",
    "token_url = 'https://www.linkedin.com/uas/oauth2/accessToken'\n",
    "reg_redirect = 'http://ru-alumni.36sn3vntw3.us-east-2.elasticbeanstalk.com/login'\n",
    "\n",
    "@application.route(\"/\")\n",
    "def login():\n",
    "    linkedin = OAuth2Session(client_id, redirect_uri=reg_redirect)\n",
    "    linkedin = linkedin_compliance_fix(linkedin)\n",
    "    authorization_url, state = linkedin.authorization_url(authorization_base_url)\n",
    "    session['oauth_state'] = state;\n",
    "    return redirect(authorization_url);\n",
    "\n",
    "@application.route(\"/callback\", methods=[\"GET\"])\n",
    "def callback():\n",
    "    linkedin = OAuth2Session(client_id,redirect_uri=reg_redirect,state=session['oauth_state'])\n",
    "    linkedin.fetch_token(token_url, client_secret=client_secret,authorization_response=request.url)  \n",
    "    session['oauth_token'] = token\n",
    "    return redirect(url_for('.profile'))\n",
    "\n",
    "@application.route(\"/profile\", methods=[\"GET\"])\n",
    "def profile():\n",
    "    linkedin = OAuth2Session(client_id, redirect_uri=reg_redirect,token=session['oauth_token'])\n",
    "    return jsonify(linkedin.get('https://api.linkedin.com/v1/people/~?format=json'))\n",
    "    \n",
    "\n",
    "# print a nice greeting.\n",
    "def say_hello(username = \"World\"):\n",
    "    return '<p>Hello %s!</p>\\n' % username\n",
    "\n",
    "# run the app.\n",
    "if __name__ == \"__main__\":\n",
    "    # Setting debug to True enables debug output. This line should be\n",
    "    # removed before deploying a production app.\n",
    "#     application.debug = True\n",
    "    os.environ['DEBUG'] = '1'\n",
    "    application.secret_key = os.urandom(24)\n",
    "    application.run()"
   ]
  },
  {
   "cell_type": "code",
   "execution_count": null,
   "metadata": {},
   "outputs": [],
   "source": []
  },
  {
   "cell_type": "code",
   "execution_count": null,
   "metadata": {},
   "outputs": [],
   "source": []
  }
 ],
 "metadata": {
  "kernelspec": {
   "display_name": "Python 3",
   "language": "python",
   "name": "python3"
  },
  "language_info": {
   "codemirror_mode": {
    "name": "ipython",
    "version": 3
   },
   "file_extension": ".py",
   "mimetype": "text/x-python",
   "name": "python",
   "nbconvert_exporter": "python",
   "pygments_lexer": "ipython3",
   "version": "3.6.4"
  }
 },
 "nbformat": 4,
 "nbformat_minor": 2
}
