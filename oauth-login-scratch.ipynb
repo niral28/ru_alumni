{
 "cells": [
  {
   "cell_type": "code",
   "execution_count": 2,
   "metadata": {},
   "outputs": [],
   "source": [
    "import os \n",
    "os.environ['OAUTHLIB_INSECURE_TRANSPORT'] = '1'"
   ]
  },
  {
   "cell_type": "code",
   "execution_count": 26,
   "metadata": {},
   "outputs": [],
   "source": [
    "# Credentials you get from registering a new application\n",
    "client_id = '78gbrnp4ovmhd3'\n",
    "client_secret = 'F8yif7Bjr86xKdAf'\n",
    "\n",
    " # OAuth endpoints given in the LinkedIn API documentation\n",
    "authorization_base_url = 'https://www.linkedin.com/uas/oauth2/authorization'\n",
    "token_url = 'https://www.linkedin.com/uas/oauth2/accessToken'\n",
    "\n",
    "from requests_oauthlib import OAuth2Session\n",
    "from requests_oauthlib.compliance_fixes import linkedin_compliance_fix\n",
    "\n",
    "linkedin = OAuth2Session(client_id, redirect_uri='http://ru-alumni.36sn3vntw3.us-east-2.elasticbeanstalk.com/login')\n",
    "linkedin = linkedin_compliance_fix(linkedin)"
   ]
  },
  {
   "cell_type": "code",
   "execution_count": 27,
   "metadata": {},
   "outputs": [
    {
     "name": "stdout",
     "output_type": "stream",
     "text": [
      "Please go here and authorize, https://www.linkedin.com/uas/oauth2/authorization?response_type=code&client_id=78gbrnp4ovmhd3&redirect_uri=http%3A%2F%2Fru-alumni.36sn3vntw3.us-east-2.elasticbeanstalk.com%2Flogin&state=54H9e8Ac5ZhbhmHQU1bwbniJgDbSAg\n",
      "Paste the full redirect URL here:http://ru-alumni.36sn3vntw3.us-east-2.elasticbeanstalk.com/login?code=AQQ0QT6Gaez4QmwS_LtTN9t2hZvOoj1KHoko-0NyqEUqYGds3bwJVjv4HKMaYXZJNyFJLXyfGGLdegTdzhI6VgeGOVqfCKR2WFGxzdEmCOvOIpHTebAuJ6LlA0VdSpRSJ9KhPNuVU7z6ohIjC-xSHCdfzIzPDQ&state=54H9e8Ac5ZhbhmHQU1bwbniJgDbSAg#!\n",
      "b'<?xml version=\"1.0\" encoding=\"UTF-8\" standalone=\"yes\"?>\\n<person>\\n  <id>RY1KMixGmK</id>\\n  <first-name>Niral</first-name>\\n  <last-name>Shah</last-name>\\n  <headline>Data Science Intern at Tesla</headline>\\n  <site-standard-profile-request>\\n    <url>https://www.linkedin.com/profile/view?id=AAoAAAub6EwBYKxFGOkqBrCOOKM1sowGWAtT9jQ&amp;authType=name&amp;authToken=2I9Y&amp;trk=api*a4748934*s4692234*</url>\\n  </site-standard-profile-request>\\n</person>\\n'\n"
     ]
    }
   ],
   "source": [
    "\n",
    "# Redirect user to LinkedIn for authorization\n",
    "authorization_url, state = linkedin.authorization_url(authorization_base_url)\n",
    "print ('Please go here and authorize,', authorization_url)\n",
    "\n",
    "# Get the authorization verifier code from the callback url\n",
    "redirect_response = input('Paste the full redirect URL here:')\n",
    "\n",
    "# Fetch the access token\n",
    "\n",
    "# # some bits of text for the page.\n",
    "# header_text = '''\n",
    "#     <html>\\n<head> <title>EB Flask Test</title> </head>\\n<body>'''\n",
    "# instructions = '''\n",
    "#     <p>Hi guys! -parth</p>\\n\n",
    "#     <p> Hello - augustus </p>\n",
    "#     <p> What's up - Niral </p>\n",
    "# '''\n",
    "\n",
    "# home_link = '<p><a href=\"/\">Back</a></p>\\n'\n",
    "# footer_text = '</body>\\n</html>'\n",
    "\n",
    "# # add a rule for the index page.\n",
    "# application.add_url_rule('/', 'index', (lambda: header_text +\n",
    "#     say_hello() + instructions + footer_text))\n",
    "\n",
    "# # add a rule when the page is accessed with a name appended to the site\n",
    "# # URL.\n",
    "# application.add_url_rule('/<username>', 'hello', (lambda username:\n",
    "#     header_text + say_hello(username) + home_link + footer_text))\n",
    "\n",
    "# Fetch a protected resource, i.e. user profile\n",
    "r = linkedin.get('https://api.linkedin.com/v1/people/~')\n",
    "print (r.content)"
   ]
  },
  {
   "cell_type": "code",
   "execution_count": null,
   "metadata": {},
   "outputs": [],
   "source": []
  }
 ],
 "metadata": {
  "kernelspec": {
   "display_name": "Python 3",
   "language": "python",
   "name": "python3"
  },
  "language_info": {
   "codemirror_mode": {
    "name": "ipython",
    "version": 3
   },
   "file_extension": ".py",
   "mimetype": "text/x-python",
   "name": "python",
   "nbconvert_exporter": "python",
   "pygments_lexer": "ipython3",
   "version": "3.6.4"
  }
 },
 "nbformat": 4,
 "nbformat_minor": 2
}
